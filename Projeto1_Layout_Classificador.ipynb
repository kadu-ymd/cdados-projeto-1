{
 "cells": [
  {
   "cell_type": "markdown",
   "source": [
    "# Projeto 1 - Ciência dos Dados"
   ],
   "metadata": {}
  },
  {
   "cell_type": "markdown",
   "source": [
    "Nome: Carlos Eduardo Porciuncula Yamada\r\n",
    "\r\n",
    "Nome: Pedro Henrique de Sousa da Silva"
   ],
   "metadata": {}
  },
  {
   "cell_type": "markdown",
   "source": [
    "Atenção: Serão permitidos grupos de três pessoas, mas com uma rubrica mais exigente. Grupos deste tamanho precisarão fazer um questionário de avaliação de trabalho em equipe"
   ],
   "metadata": {}
  },
  {
   "cell_type": "markdown",
   "source": [
    "* Tweets relevantes:\r\n",
    "    - Críticas à marca ou produtos\r\n",
    "    - Anúncios de eventos\r\n",
    "    - Venda de produtos\r\n"
   ],
   "metadata": {}
  },
  {
   "cell_type": "markdown",
   "source": [
    "___\n",
    "Carregando algumas bibliotecas:"
   ],
   "metadata": {}
  },
  {
   "cell_type": "code",
   "execution_count": 631,
   "source": [
    "%matplotlib inline\r\n",
    "import pandas as pd\r\n",
    "import matplotlib.pyplot as plt\r\n",
    "import numpy as np\r\n",
    "import os\r\n",
    "import emoji\r\n",
    "import functools\r\n",
    "import operator\r\n",
    "import nltk\r\n",
    "nltk.download('stopwords')"
   ],
   "outputs": [
    {
     "output_type": "stream",
     "name": "stderr",
     "text": [
      "[nltk_data] Downloading package stopwords to C:\\Users\\Paula\n",
      "[nltk_data]     Yamada\\AppData\\Roaming\\nltk_data...\n",
      "[nltk_data]   Package stopwords is already up-to-date!\n"
     ]
    },
    {
     "output_type": "execute_result",
     "data": {
      "text/plain": [
       "True"
      ]
     },
     "metadata": {},
     "execution_count": 631
    }
   ],
   "metadata": {}
  },
  {
   "cell_type": "code",
   "execution_count": 632,
   "source": [
    "print('Esperamos trabalhar no diretório')\r\n",
    "print(os.getcwd())"
   ],
   "outputs": [
    {
     "output_type": "stream",
     "name": "stdout",
     "text": [
      "Esperamos trabalhar no diretório\n",
      "c:\\Users\\Paula Yamada\\OneDrive\\Área de Trabalho\\2021.2\\cdados\\cdados-projeto-1\n"
     ]
    }
   ],
   "metadata": {
    "scrolled": false
   }
  },
  {
   "cell_type": "markdown",
   "source": [
    "Carregando a base de dados com os tweets classificados como relevantes e não relevantes:"
   ],
   "metadata": {}
  },
  {
   "cell_type": "code",
   "execution_count": 633,
   "source": [
    "filename = 'Apple.xlsx'"
   ],
   "outputs": [],
   "metadata": {}
  },
  {
   "cell_type": "code",
   "execution_count": 634,
   "source": [
    "train = dft = pd.read_excel('Apple.xlsx', sheet_name='Treinamento')\r\n",
    "test = dft = pd.read_excel('Apple.xlsx', sheet_name='Teste')"
   ],
   "outputs": [],
   "metadata": {}
  },
  {
   "cell_type": "markdown",
   "source": [
    "___\n",
    "## Classificador automático de sentimento\n"
   ],
   "metadata": {}
  },
  {
   "cell_type": "markdown",
   "source": [
    "Apple é uma empresa norte-americana que recentemente anunciou o lançamento de diversos produtos como o iPhone 13 e o Apple Watch 7.\r\n",
    "\r\n",
    "A classificação foi feita considerando se o tweet tem relação com a marca ou se faz parte de uma discussão relacionada à empresa: opinião, crítica ou afim."
   ],
   "metadata": {}
  },
  {
   "cell_type": "markdown",
   "source": [
    "___\n",
    "### Montando um Classificador Naive-Bayes\n",
    "\n",
    "Considerando apenas as mensagens da planilha Treinamento, ensine  seu classificador."
   ],
   "metadata": {}
  },
  {
   "cell_type": "markdown",
   "source": [
    "___\r\n",
    "Aqui criamos funções com os seguintes intuitos:\r\n",
    "- Remoção de pontuação (`função I`);\r\n",
    "- Correção de espaços entre emojis (`função II`);\r\n",
    "- Remoção de palavras de parada (ou *stopwords*) (`função III`);\r\n",
    "\r\n",
    "Ao final da montagem, também aplicamos a Suavização de Laplace."
   ],
   "metadata": {}
  },
  {
   "cell_type": "code",
   "execution_count": 635,
   "source": [
    "import re \r\n",
    "\r\n",
    "# FUNÇÃO I\r\n",
    "def cleanup(text):\r\n",
    "    \"\"\"\r\n",
    "        Função de limpeza muito simples que troca alguns sinais básicos por espaços\r\n",
    "    \"\"\"\r\n",
    "    pont = '[!-.:?;]' # Note que os sinais [] são delimitadores de um conjunto.\r\n",
    "    pattern = re.compile(pont)\r\n",
    "\r\n",
    "    text_subbed = re.sub(pattern, '', text)\r\n",
    "    text_subbed = re.sub(r'http\\S+', '', text_subbed)\r\n",
    "\r\n",
    "    return text_subbed\r\n",
    "\r\n",
    "# FUNÇÃO II\r\n",
    "def separa_emoji(text):\r\n",
    "    \"\"\"\r\n",
    "        Função que separa emojis em frases\r\n",
    "    \"\"\"\r\n",
    "    em_split_emoji = emoji.get_emoji_regexp().split(text)\r\n",
    "    em_split_whitespace = [substr.split() for substr in em_split_emoji]\r\n",
    "    em_split = functools.reduce(operator.concat, em_split_whitespace)\r\n",
    "    return em_split\r\n",
    "\r\n",
    "# FUNÇÃO III\r\n",
    "def remove_stopwords(lista):\r\n",
    "    stopwords = nltk.corpus.stopwords.words('portuguese')\r\n",
    "    l = list()\r\n",
    "    for p in lista:\r\n",
    "        if not p in stopwords:\r\n",
    "            l.append(p)\r\n",
    "    return l"
   ],
   "outputs": [],
   "metadata": {}
  },
  {
   "cell_type": "markdown",
   "source": [
    "___\r\n",
    "### Obtenção de valores a partir dos DataFrames"
   ],
   "metadata": {}
  },
  {
   "cell_type": "code",
   "execution_count": 636,
   "source": [
    "# Criando uma série para contabilizar as frequências relativas de\r\n",
    "# todos os tweets da planilha 'Treinamento'\r\n",
    "\r\n",
    "lista = list()\r\n",
    "for i in range(train.shape[0]):\r\n",
    "    lista += remove_stopwords(separa_emoji(cleanup(train.Treinamento[i])))\r\n",
    "serie_twt = pd.Series(lista)\r\n",
    "twt_relat = serie_twt.value_counts(True)"
   ],
   "outputs": [],
   "metadata": {}
  },
  {
   "cell_type": "code",
   "execution_count": 637,
   "source": [
    "# Elaborando tabelas separadas para os tweets\r\n",
    "# classificados como 'relevantes' ou 'irrelevantes'\r\n",
    "bool_ = train.isin([1])\r\n",
    "\r\n",
    "filtro_r = bool_['Classificação'] == True\r\n",
    "filtro_i = bool_['Classificação'] == False\r\n",
    "\r\n",
    "relevantes = train.loc[filtro_r, :]\r\n",
    "irrelevantes = train.loc[filtro_i, :]"
   ],
   "outputs": [],
   "metadata": {}
  },
  {
   "cell_type": "code",
   "execution_count": 638,
   "source": [
    "# Criando uma série para contabilizar as frequências relativas de\r\n",
    "# tweets relevantes da planilha 'Treinamento'\r\n",
    "li_rel = list()\r\n",
    "\r\n",
    "for i in range(relevantes.shape[0]):\r\n",
    "    li_rel += remove_stopwords(separa_emoji(cleanup(relevantes.Treinamento[relevantes.index[i]])))\r\n",
    "\r\n",
    "serie_rel = pd.Series(li_rel)\r\n",
    "rel_relat = serie_rel.value_counts(True)"
   ],
   "outputs": [],
   "metadata": {}
  },
  {
   "cell_type": "code",
   "execution_count": 639,
   "source": [
    "# Criando uma série para contabilizar as frequências relativas de\r\n",
    "# tweets irrelevantes da planilha 'Treinamento'\r\n",
    "li_irr = list()\r\n",
    "\r\n",
    "for i in range(irrelevantes.shape[0]):\r\n",
    "    li_irr += remove_stopwords(separa_emoji(cleanup(irrelevantes.Treinamento[irrelevantes.index[i]])))\r\n",
    "\r\n",
    "serie_irr = pd.Series(li_irr)\r\n",
    "irr_relat = serie_irr.value_counts(True)"
   ],
   "outputs": [],
   "metadata": {}
  },
  {
   "cell_type": "code",
   "execution_count": 640,
   "source": [
    "probR = len(li_rel)/len(lista)\r\n",
    "\r\n",
    "probI = len(li_irr)/len(lista)"
   ],
   "outputs": [],
   "metadata": {}
  },
  {
   "cell_type": "code",
   "execution_count": 641,
   "source": [
    "test['Naive'] = ''"
   ],
   "outputs": [],
   "metadata": {}
  },
  {
   "cell_type": "code",
   "execution_count": 642,
   "source": [
    "for n in range(test.shape[0]):\r\n",
    "    probTdadoI = 1\r\n",
    "    probTdadoR = 1\r\n",
    "\r\n",
    "    tweet = remove_stopwords(separa_emoji(cleanup(test.Teste[n])))\r\n",
    "\r\n",
    "    for p in tweet:\r\n",
    "        if p in rel_relat:\r\n",
    "            probTdadoR *= rel_relat[p]\r\n",
    "    \r\n",
    "    for p in tweet:\r\n",
    "        if p in irr_relat:\r\n",
    "            probTdadoI *= irr_relat[p]\r\n",
    "    \r\n",
    "    probRdadoT = probTdadoR * probR\r\n",
    "    probIdadoT = probTdadoI * probI\r\n",
    "\r\n",
    "    if probRdadoT > probIdadoT:\r\n",
    "        test.Naive[n] = 1\r\n",
    "    else:\r\n",
    "        test.Naive[n] = 0"
   ],
   "outputs": [
    {
     "output_type": "stream",
     "name": "stderr",
     "text": [
      "<ipython-input-642-d4dbc3ffc4d5>:19: SettingWithCopyWarning: \n",
      "A value is trying to be set on a copy of a slice from a DataFrame\n",
      "\n",
      "See the caveats in the documentation: https://pandas.pydata.org/pandas-docs/stable/user_guide/indexing.html#returning-a-view-versus-a-copy\n",
      "  test.Naive[n] = 1\n",
      "<ipython-input-642-d4dbc3ffc4d5>:21: SettingWithCopyWarning: \n",
      "A value is trying to be set on a copy of a slice from a DataFrame\n",
      "\n",
      "See the caveats in the documentation: https://pandas.pydata.org/pandas-docs/stable/user_guide/indexing.html#returning-a-view-versus-a-copy\n",
      "  test.Naive[n] = 0\n"
     ]
    }
   ],
   "metadata": {}
  },
  {
   "cell_type": "markdown",
   "source": [
    "___\r\n",
    "\r\n",
    "## Suavização de Laplace"
   ],
   "metadata": {}
  },
  {
   "cell_type": "code",
   "execution_count": 643,
   "source": [
    "palavras_possiveis = serie_twt.value_counts().shape[0]\r\n",
    "qtd_rel = serie_rel.value_counts().shape[0]\r\n",
    "qtd_irr = serie_irr.value_counts().shape[0]"
   ],
   "outputs": [],
   "metadata": {}
  },
  {
   "cell_type": "code",
   "execution_count": 644,
   "source": [
    "rel_abs = serie_rel.value_counts()\r\n",
    "irr_abs = serie_irr.value_counts()"
   ],
   "outputs": [],
   "metadata": {}
  },
  {
   "cell_type": "code",
   "execution_count": 645,
   "source": [
    "test['Laplace'] = ''"
   ],
   "outputs": [],
   "metadata": {}
  },
  {
   "cell_type": "code",
   "execution_count": 652,
   "source": [
    "for n in range(test.Teste.shape[0]):\r\n",
    "    produtoR = 1\r\n",
    "    tweet = remove_stopwords(separa_emoji(cleanup(test.Teste[n])))\r\n",
    "    for p in tweet:\r\n",
    "        if not p in rel_abs:\r\n",
    "            rel_abs[p] = 0\r\n",
    "        produtoR *= (rel_abs[p] + 1)/(qtd_rel + palavras_possiveis)\r\n",
    "\r\n",
    "    produtoI = 1\r\n",
    "\r\n",
    "    for p in tweet:\r\n",
    "        if not p in irr_abs:\r\n",
    "            irr_abs[p] = 0\r\n",
    "        produtoI *= (irr_abs[p] + 1)/(qtd_irr + palavras_possiveis)\r\n",
    "\r\n",
    "    probRdadoT = produtoR * probR\r\n",
    "    probIdadoT = produtoI * probI\r\n",
    "\r\n",
    "    if probRdadoT > probIdadoT:\r\n",
    "        test.Laplace[n] = 1\r\n",
    "    else:\r\n",
    "        test.Laplace[n] = 0"
   ],
   "outputs": [
    {
     "output_type": "stream",
     "name": "stderr",
     "text": [
      "<ipython-input-652-abc79c90dd25>:20: SettingWithCopyWarning: \n",
      "A value is trying to be set on a copy of a slice from a DataFrame\n",
      "\n",
      "See the caveats in the documentation: https://pandas.pydata.org/pandas-docs/stable/user_guide/indexing.html#returning-a-view-versus-a-copy\n",
      "  test.Laplace[n] = 1\n",
      "<ipython-input-652-abc79c90dd25>:22: SettingWithCopyWarning: \n",
      "A value is trying to be set on a copy of a slice from a DataFrame\n",
      "\n",
      "See the caveats in the documentation: https://pandas.pydata.org/pandas-docs/stable/user_guide/indexing.html#returning-a-view-versus-a-copy\n",
      "  test.Laplace[n] = 0\n"
     ]
    }
   ],
   "metadata": {}
  },
  {
   "cell_type": "markdown",
   "source": [
    "___"
   ],
   "metadata": {}
  },
  {
   "cell_type": "markdown",
   "source": [
    "## Verificação de performance"
   ],
   "metadata": {}
  },
  {
   "cell_type": "markdown",
   "source": [
    "* **Sem a Suavização de Laplace**"
   ],
   "metadata": {}
  },
  {
   "cell_type": "code",
   "execution_count": 654,
   "source": [
    "b = 0\r\n",
    "for i in range(test.shape[0]):\r\n",
    "    if test.Classificação[i] == test.Naive[i]:\r\n",
    "        b += 1\r\n",
    "print(f'- Exatidão: {b/test.shape[0]*100}%')\r\n",
    "\r\n",
    "# PARA VERDADEIROS POSITIVOS\r\n",
    "vpC = test.Classificação == 1\r\n",
    "vpN = test.Naive == 1\r\n",
    "\r\n",
    "# PARA FALSOS POSITIVOS\r\n",
    "fpC = test.Classificação == 0\r\n",
    "fpN = test.Naive == 1\r\n",
    "\r\n",
    "# PARA VERDADEIROS NEGATIVOS\r\n",
    "vnC = test.Classificação == 0\r\n",
    "vnN = test.Naive == 0\r\n",
    "\r\n",
    "# PARA FALSOS NEGATIVOS\r\n",
    "fnC = test.Classificação == 1\r\n",
    "fnN = test.Naive == 0\r\n",
    "\r\n",
    "vp = (test.Teste.loc[vpC & vpN].count()/vpC.sum())*100\r\n",
    "fp = (test.Teste.loc[fpC & fpN].count()/fpC.sum())*100\r\n",
    "vn = (test.Teste.loc[vnC & vnN].count()/vnC.sum())*100\r\n",
    "fn = (test.Teste.loc[fnC & fpN].count()/fnC.sum())*100\r\n",
    "\r\n",
    "print(f'- Verdadeiros positivos (tweets relevantes classificados como relevantes): {vp:.1f}%\\n'\r\n",
    "      f'- Falsos positivos (tweets irrelevantes classificados como relevantes): {fp:.1f}%\\n'\r\n",
    "      f'- Verdadeiros negativos (tweets irrelevantes classificados como irrelevantes): {vn:.1f}%\\n'\r\n",
    "      f'- Falsos negativos (tweets relevantes classificados como irrelevantes): {fn:.1f}%\\n')\r\n",
    "\r\n"
   ],
   "outputs": [
    {
     "output_type": "stream",
     "name": "stdout",
     "text": [
      "- Exatidão: 46.5%\n",
      "- Verdadeiros positivos (tweets relevantes classificados como relevantes): 41.0%\n",
      "- Falsos positivos (tweets irrelevantes classificados como relevantes): 48.0%\n",
      "- Verdadeiros negativos (tweets irrelevantes classificados como irrelevantes): 52.0%\n",
      "- Falsos negativos (tweets relevantes classificados como irrelevantes): 41.0%\n",
      "\n"
     ]
    }
   ],
   "metadata": {}
  },
  {
   "cell_type": "markdown",
   "source": [
    "* **Com a Suavização de Laplace**"
   ],
   "metadata": {}
  },
  {
   "cell_type": "code",
   "execution_count": 655,
   "source": [
    "a = 0\r\n",
    "for i in range(test.shape[0]):\r\n",
    "    if test.Classificação[i] == test.Laplace[i]:\r\n",
    "        a += 1\r\n",
    "print(f'- Exatidão: {a/test.shape[0]*100}%')\r\n",
    "\r\n",
    "# PARA VERDADEIROS POSITIVOS\r\n",
    "vpC = test.Classificação == 1\r\n",
    "vpL = test.Laplace == 1\r\n",
    "\r\n",
    "# PARA FALSOS POSITIVOS\r\n",
    "fpC = test.Classificação == 0\r\n",
    "fpL = test.Laplace == 1\r\n",
    "\r\n",
    "# PARA VERDADEIROS NEGATIVOS\r\n",
    "vnC = test.Classificação == 0\r\n",
    "vnL = test.Laplace == 0\r\n",
    "\r\n",
    "# PARA FALSOS NEGATIVOS\r\n",
    "fnC = test.Classificação == 1\r\n",
    "fnL = test.Laplace == 0\r\n",
    "\r\n",
    "vp = (test.Teste.loc[vpC & vpL].count()/vpC.sum())*100\r\n",
    "fp = (test.Teste.loc[fpC & fpL].count()/fpC.sum())*100\r\n",
    "vn = (test.Teste.loc[vnC & vnL].count()/vnC.sum())*100\r\n",
    "fn = (test.Teste.loc[fnC & fpL].count()/fnC.sum())*100\r\n",
    "\r\n",
    "print(f'- Verdadeiros positivos (tweets relevantes classificados como relevantes): {vp:.1f}%\\n'\r\n",
    "      f'- Falsos positivos (tweets irrelevantes classificados como relevantes): {fp:.1f}%\\n'\r\n",
    "      f'- Verdadeiros negativos (tweets irrelevantes classificados como irrelevantes): {vn:.1f}%\\n'\r\n",
    "      f'- Falsos negativos (tweets relevantes classificados como irrelevantes): {fn:.1f}%\\n')\r\n"
   ],
   "outputs": [
    {
     "output_type": "stream",
     "name": "stdout",
     "text": [
      "- Exatidão: 69.5%\n",
      "- Verdadeiros positivos (tweets relevantes classificados como relevantes): 96.0%\n",
      "- Falsos positivos (tweets irrelevantes classificados como relevantes): 57.0%\n",
      "- Verdadeiros negativos (tweets irrelevantes classificados como irrelevantes): 43.0%\n",
      "- Falsos negativos (tweets relevantes classificados como irrelevantes): 96.0%\n",
      "\n"
     ]
    }
   ],
   "metadata": {}
  },
  {
   "cell_type": "markdown",
   "source": [
    "___\n",
    "### Concluindo"
   ],
   "metadata": {}
  },
  {
   "cell_type": "code",
   "execution_count": null,
   "source": [],
   "outputs": [],
   "metadata": {}
  },
  {
   "cell_type": "code",
   "execution_count": null,
   "source": [],
   "outputs": [],
   "metadata": {}
  },
  {
   "cell_type": "code",
   "execution_count": null,
   "source": [],
   "outputs": [],
   "metadata": {}
  },
  {
   "cell_type": "markdown",
   "source": [
    "___\n",
    "### Qualidade do Classificador a partir de novas separações dos tweets entre Treinamento e Teste\n",
    "\n",
    "Caso for fazer esse item do Projeto"
   ],
   "metadata": {}
  },
  {
   "cell_type": "code",
   "execution_count": null,
   "source": [],
   "outputs": [],
   "metadata": {}
  },
  {
   "cell_type": "code",
   "execution_count": null,
   "source": [],
   "outputs": [],
   "metadata": {}
  },
  {
   "cell_type": "code",
   "execution_count": null,
   "source": [],
   "outputs": [],
   "metadata": {}
  },
  {
   "cell_type": "markdown",
   "source": [
    "___\n",
    "## Aperfeiçoamento:\n",
    "\n",
    "Trabalhos que conseguirem pelo menos conceito B vão evoluir em conceito dependendo da quantidade de itens avançados:\n",
    "\n",
    "* IMPLEMENTOU outras limpezas e transformações que não afetem a qualidade da informação contida nos tweets. Ex: stemming, lemmatization, stopwords\n",
    "* CORRIGIU separação de espaços entre palavras e emojis ou entre emojis e emojis\n",
    "* CRIOU categorias intermediárias de relevância baseadas na probabilidade: ex.: muito relevante, relevante, neutro, irrelevante, muito irrelevante. Pelo menos quatro categorias, com adição de mais tweets na base, conforme enunciado. (OBRIGATÓRIO PARA TRIOS, sem contar como item avançado)\n",
    "* EXPLICOU porquê não pode usar o próprio classificador para gerar mais amostras de treinamento\n",
    "* PROPÔS diferentes cenários para Naïve Bayes fora do contexto do projeto\n",
    "* SUGERIU e EXPLICOU melhorias reais com indicações concretas de como implementar (indicar como fazer e indicar material de pesquisa)\n",
    "* FEZ o item 6. Qualidade do Classificador a partir de novas separações dos tweets entre Treinamento e Teste descrito no enunciado do projeto (OBRIGATÓRIO para conceitos A ou A+)"
   ],
   "metadata": {},
   "attachments": {}
  },
  {
   "cell_type": "markdown",
   "source": [
    "___\n",
    "## Referências"
   ],
   "metadata": {}
  },
  {
   "cell_type": "markdown",
   "source": [
    "[Naive Bayes and Text Classification](https://arxiv.org/pdf/1410.5329.pdf)  **Mais completo**\n",
    "\n",
    "[A practical explanation of a Naive Bayes Classifier](https://monkeylearn.com/blog/practical-explanation-naive-bayes-classifier/) **Mais simples**"
   ],
   "metadata": {}
  },
  {
   "cell_type": "code",
   "execution_count": null,
   "source": [],
   "outputs": [],
   "metadata": {}
  }
 ],
 "metadata": {
  "kernelspec": {
   "name": "python3",
   "display_name": "Python 3.8.5 64-bit ('base': conda)"
  },
  "language_info": {
   "codemirror_mode": {
    "name": "ipython",
    "version": 3
   },
   "file_extension": ".py",
   "mimetype": "text/x-python",
   "name": "python",
   "nbconvert_exporter": "python",
   "pygments_lexer": "ipython3",
   "version": "3.8.5"
  },
  "interpreter": {
   "hash": "a62a3330c22067498225200e433f1b8ac4b8d642a79071681a45c428ce3bb911"
  }
 },
 "nbformat": 4,
 "nbformat_minor": 4
}